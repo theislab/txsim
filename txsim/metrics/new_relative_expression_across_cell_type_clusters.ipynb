{
 "cells": [
  {
   "cell_type": "markdown",
   "id": "0a937f58",
   "metadata": {},
   "source": [
    "# Relative expression across cell types\n",
    "\n",
    "Let the matrix of mean expression values for each gene g in each cell type $ct$ for a given modality $m$ defined as:\n",
    "$$<X>_{ct,g}^m = \\frac{1}{\\lvert C_{g} \\rvert} \\sum\\limits_{g\\in C_{g}} X_{g,ct}^{m}$$ \n",
    "\n",
    "where $C_{g}$ is the set of all genes in given cell type clusters $ct$ and $X_{c,g}^{m}$ is the matrix of normalized expression values for each gene $g$ in each cell $c$. \n",
    "\n",
    "Define the difference in mean expression between two cell types $(c_1,c_2)$ in the given gene $g$ and the given modality\n",
    "$$\\delta_{c_1,c_2}^m= <X>_{g,c_1}^m - <X>_{g,c_2}^m $$\n",
    "\n",
    "By deriving the mean cell type expressions to the sum of the absolute values of all possible pairwise differences between cell types, we normalize sothat they are comparable across modalities. To be sure that the values are comparable across datasets with different numbers of cell-types, we scale the result by a factor of $N_{c}^2$ representing the total number of shared cell types shared between the two modalities. We define the normalized pairwise difference in mean cell type expression between two cell types $c_1,c_2$ in a given gene $g$ and a given modality $m$ as\n",
    "$$\\delta_{c_1,c_2}^{'m,g}= \\frac{N_{c}^2 \\delta_{c_1,c_2}^{m,g}}{\\sum\\limits_{c_1}\\sum\\limits_{c_2}|\\delta_{c_1,c_2}^{m,g}|} $$\n",
    "\n",
    "To compare the normalized pairwise differences in mean cell-type expression between modalities, we define $\\triangle$ as\n",
    "$$\\triangle = \\sum\\limits_{ct}\\sum\\limits_{c_1}\\sum\\limits_{c_2} |\\delta_{c_1,c_2}^{'sp,g}- \\delta_{c_1,c_2}^{'sc,g}|$$\n",
    "\n",
    "Define the final metric $M$ bounded at a maximum of 1, representing the perfect similarity of relative gene expression between modalities, and minimum of 0, representing the perfect dissimilarity of relative cell type expression between two modalities such that each cell types expression value in each gene pair is swapped.\n",
    "\n",
    "$$M=1-\\frac{\\triangle}{2*|\\sum\\limits_{g,c_1,c_1}\\delta_{c_1,c_2}^{'sc,g}|}$$\n"
   ]
  },
  {
   "cell_type": "code",
   "execution_count": null,
   "id": "49de7632",
   "metadata": {},
   "outputs": [],
   "source": []
  }
 ],
 "metadata": {
  "kernelspec": {
   "display_name": "Python 3 (ipykernel)",
   "language": "python",
   "name": "python3"
  },
  "language_info": {
   "codemirror_mode": {
    "name": "ipython",
    "version": 3
   },
   "file_extension": ".py",
   "mimetype": "text/x-python",
   "name": "python",
   "nbconvert_exporter": "python",
   "pygments_lexer": "ipython3",
   "version": "3.10.8"
  }
 },
 "nbformat": 4,
 "nbformat_minor": 5
}
