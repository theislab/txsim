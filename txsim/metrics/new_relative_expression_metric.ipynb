{
 "cells": [
  {
   "cell_type": "markdown",
   "id": "718974bc",
   "metadata": {},
   "source": [
    "Prior to computing each similarity metric, we subset the genes and the celltypes to those shared between both modalities. \n",
    "\n",
    "### Relative expression across genes\n",
    "To assess the similarity of the relative expression of gene pairs in each celltype cluster between the two modalities, we compute the following metric:\n",
    "\n",
    "Let the matrix of mean expression values for each gene $g$ in each celltype $ct$ for a given modality $m$ be defined as $$<X>_{ct,g}^m = \\frac{1}{\\lvert C_{ct} \\rvert} \\sum\\limits_{c\\in C_{ct}} X_{c,g}^{m}$$ \n",
    "\n",
    "where $C_{ct}$ is the set of all cells in a given cell type cluster $ct$ and $X_{c,g}^{m}$ is the matrix of normalized expression values for each gene $g$ in each cell $c$. \n",
    "\n",
    "Then, define the difference in mean expression between two genes ($g_1$, $g_2$) in a given celltype $ct$ and a given modality $m$ as\n",
    "\n",
    "$$\\delta_{g1,g2}^{m,ct} = <X>_{ct,g1}^m - <X>_{ct,g2}^m$$\n",
    " \n",
    "To normalize these pairwise differences in mean gene expression so that they are comparable across modalities, we divide by the sum of the absolute values of all possible pairwise differences between genes, $\\sum\\limits_{g1}\\sum\\limits_{g2}\\lvert \\delta_{g1,g2}^{m,ct} \\rvert$. Furthermore, to ensure that the values are comparable across datasets with different numbers of genes, we scale the result by a factor of $N^2_{g}$. In sum, we define the normalized pairwise difference in mean expression between two genes ($g_1$, $g_2$) in a given celltype $ct$ and a given modality $m$ as \n",
    "\n",
    "$$\\delta_{g1,g2}^{'m,ct} = \\frac{N^2_{g} \\delta_{g1,g2}^{m,ct}}{\\sum\\limits_{g1}\\sum\\limits_{g2}\\lvert \\delta_{g1,g2}^{m,ct} \\rvert} $$\n",
    "\n",
    "where $N^2_{g}$ is the total number of genes shared between the two modalities.\n",
    "\n",
    "Finally, we compare the normalized pairwise differences in mean gene expression between modalities ($sc$ and $sp$), as follows: \n",
    "$$\\triangle = \\sum\\limits_{ct} \\sum\\limits_{g1} \\sum\\limits_{g2} \\lvert \\delta_{g1,g2}^{'sp,ct} - \\delta_{g1,g2}^{'sc,ct} \\rvert $$\n",
    "\n",
    "The final metric is bounded at a maximum of 1, representing perfect similarity of relative gene expression between modalities. Furthermore, the metric is constructed such that, when its value is $0$, this represents perfect dissimilarity of relative gene expression between modalities (such that each gene's expression value in each gene pair is swapped). \n",
    "\n",
    "$$ M = 1 - \\frac{\\triangle}{ 2 * \\lvert \\sum\\limits_{ct,g1,g2} \\delta_{g1,g2}^{'m,ct}\\rvert } $$\n",
    "\n",
    "\n",
    "We can further compute the metric on a per-gene and per-celltype basis:\n",
    "\n",
    "1) per gene:\n",
    "$$\\triangle_{g1} = \\sum\\limits_{ct} \\sum\\limits_{g2} \\lvert \\delta_{g1,g2}^{'sp,ct} - \\delta_{g1,g2}^{'sc,ct} \\rvert $$\n",
    "$$ M_{g1} = 1 - \\frac{\\triangle}{ 2 * \\lvert \\sum\\limits_{ct,g2} \\delta_{g1,g2}^{'m,ct}\\rvert } $$\n",
    "\n",
    "2) per cell-type:\n",
    "$$\\triangle_{ct} = \\sum\\limits_{g1} \\sum\\limits_{g2} \\lvert \\delta_{g1,g2}^{'sp,ct} - \\delta_{g1,g2}^{'sc,ct} \\rvert $$\n",
    "$$ M_{ct} = 1 - \\frac{\\triangle}{ 2 * \\lvert \\sum\\limits_{g1,g2}\\delta_{g1,g2}^{'m,ct} \\rvert } $$"
   ]
  },
  {
   "cell_type": "code",
   "execution_count": null,
   "id": "efb484f2",
   "metadata": {},
   "outputs": [],
   "source": []
  }
 ],
 "metadata": {
  "kernelspec": {
   "display_name": "Python 3 (ipykernel)",
   "language": "python",
   "name": "python3"
  },
  "language_info": {
   "codemirror_mode": {
    "name": "ipython",
    "version": 3
   },
   "file_extension": ".py",
   "mimetype": "text/x-python",
   "name": "python",
   "nbconvert_exporter": "python",
   "pygments_lexer": "ipython3",
   "version": "3.10.8"
  }
 },
 "nbformat": 4,
 "nbformat_minor": 5
}
