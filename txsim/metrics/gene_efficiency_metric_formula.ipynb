{
 "cells": [
  {
   "cell_type": "markdown",
   "metadata": {},
   "source": [
    "### Math formula for probe efficiency metrics (without Katelyn's edits –– as it currently is in the txsim code)"
   ]
  },
  {
   "cell_type": "markdown",
   "metadata": {},
   "source": [
    "#### The code currently outputs 3 stats: `gene_ratios`, `efficiency_mean`, and `efficiency_dev`."
   ]
  },
  {
   "cell_type": "markdown",
   "metadata": {},
   "source": [
    "  "
   ]
  },
  {
   "cell_type": "markdown",
   "metadata": {},
   "source": [
    "Let mean_celltype_SP be a matrix representing the mean expression of each gene in the spatial dataset for each cell type, such that\n",
    "\n",
    "$$mean_{celltypeSP_{i,j}} = \\frac{1}{n_i} \\sum_{k=1}^{m} \\mathbf{1}_{\\{celltype_k=i\\}} \\cdot exp_{sp_{k,j}}$$\n",
    "\n",
    "where: \n",
    "- $exp_{sp_{k,j}}$ is the log-normalized expression level of gene $j$ in cell $k$ in the spatial dataset.\n",
    "- $n_i$ is the number of cells of cell type $i$\n",
    "- $m$ is the total number of cells in the spatial data\n",
    "- $k$ is the index of a cell, running from $1$ to $m$\n",
    "- $\\mathbf{1}_{\\{celltype_k=i\\}}$ is the indicator function that is $1$ if cell $k$ is of cell type $i$ and $0$ otherwise\n",
    "\n",
    "\n",
    "Similarly, let mean_celltype_SC be a matrix representing the mean expression of each gene in the scRNAseq dataset for each cell type, such that\n",
    "\n",
    "$$mean_{celltypeSC_{i,j}} = \\frac{1}{n_i} \\sum_{k=1}^{m} \\mathbf{1}_{\\{celltype_k=i\\}} \\cdot exp_{sc_{k,j}}$$\n",
    "\n",
    "where: \n",
    "- $exp_{sc_{k,j}}$ is the log-normalized expression level of gene $j$ in cell $k$ in the scRNAseq dataset.\n",
    "- $n_i$ is the number of cells of cell type $i$\n",
    "- $m$ is the total number of cells in the scRNAseq data\n",
    "- $k$ is the index of a cell, running from $1$ to $m$\n",
    "- $\\mathbf{1}_{\\{celltype_k=i\\}}$ is the indicator function that is $1$ if cell $k$ is of cell type $i$ and $0$ otherwise\n",
    "\n",
    "\n",
    "\n",
    "\n",
    "Then, define gene_ratios as the ratio between the mean expression of each gene across all cell types in the spatial dataset and the mean expression of each gene across all cell type in the scRNAseq dataset:\n",
    "\n",
    "\\begin{align*}\n",
    "gene\\_ratios = \\frac{\\frac{1}{p}\\sum_{i=1}^{p} mean_{celltypeSP_{i,j}}}{\\frac{1}{p}\\sum_{i=1}^{p} mean_{celltypeSC_{i,j}}}\n",
    "\\end{align*}\n",
    "\n",
    "where: \n",
    "\n",
    "- $p$ is the number of cell-types in the spatial and single-cell datasets\n",
    "\n",
    "\n",
    "Finally:\n",
    "$$efficiency\\_mean = \\frac{1}{n} \\sum_{j=1}^{n} gene\\_ratios_j$$\n",
    "$$efficiency\\_std = \\sqrt{\\frac{1}{n-1} \\sum_{j=1}^{n} (gene\\_ratios_j - \\bar{gene\\_ratios})^2}$$\n",
    "\n",
    "where: \n",
    "- $j$ is the index of a gene, running from $1$ to $n$\n"
   ]
  },
  {
   "cell_type": "code",
   "execution_count": null,
   "metadata": {},
   "outputs": [],
   "source": []
  },
  {
   "cell_type": "code",
   "execution_count": null,
   "metadata": {},
   "outputs": [],
   "source": []
  },
  {
   "cell_type": "code",
   "execution_count": null,
   "metadata": {},
   "outputs": [],
   "source": []
  },
  {
   "cell_type": "code",
   "execution_count": null,
   "metadata": {},
   "outputs": [],
   "source": []
  },
  {
   "cell_type": "code",
   "execution_count": null,
   "metadata": {},
   "outputs": [],
   "source": []
  }
 ],
 "metadata": {
  "kernelspec": {
   "display_name": "Python 3",
   "language": "python",
   "name": "python3"
  },
  "language_info": {
   "codemirror_mode": {
    "name": "ipython",
    "version": 3
   },
   "file_extension": ".py",
   "mimetype": "text/x-python",
   "name": "python",
   "nbconvert_exporter": "python",
   "pygments_lexer": "ipython3",
   "version": "3.7.7"
  }
 },
 "nbformat": 4,
 "nbformat_minor": 4
}
