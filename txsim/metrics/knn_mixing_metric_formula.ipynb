{
 "cells": [
  {
   "cell_type": "markdown",
   "id": "41b1dd84",
   "metadata": {},
   "source": [
    "## knn mixing metric\n",
    "\n",
    "The kNN mixing metric is useful for assessing the degree of mixing between different cell types in a low-dimensional embedding. Such mixing can be characterized by a quantity $e_{ij}$ , which we define to be the fraction of edges in the graph that connect a vertex of type $i$ to one of type $j$.\n",
    "\n",
    "$e_{ij} = \\displaystyle\\frac{\\text{Nb of edges from type i to type j}}{\\text{Total nb of edges}}$ \n",
    "\n",
    "\n",
    "On an undirected graph this quantity is symmetric and $e_{ij} = e_{ji}$, while on directed graphs it may be asymmetric. \n",
    "It satisfies\n",
    "\n",
    "\n",
    "\n",
    "$$\\sum_{ij} e_{ij} = 1, ~~~~~~\\sum_{j} e_{ij} = a_{i}, ~~~~~~\\sum_{i} e_{ij} = b_{j}$$\n",
    "\n",
    "\n",
    "\n",
    "where $a_{i}$ and $b_{i}$ are the fraction of each type of end of an edge that is attached to vertices of type i.\n",
    "\n",
    "\n",
    "Thus, given two sets of cells from spatial transcriptomics (type 1) and from single cell data (type 2), we get\n",
    "\n",
    "$$\n",
    " \\begin{matrix}\n",
    " & \\text{Type 1 (spatial)} & \\text{Type 2 (scRNA)}  &  \\\\\n",
    "\\text{Type 1 (spatial)}  & e_{11} & e_{12} & = a_{1} \\\\\n",
    " \\text{Type 2 (scRNA)} & e_{21} & e_{22} & = a_{2}  \\\\\n",
    " & = b_{1}  & =b_{2}  &  \\\\\n",
    "\\end{matrix} \n",
    "$$\n",
    "\n",
    "We identify the k nearest neighbors of each cell and compute the associated knn graph $G$, with node attributes \"spatial\" or \"scRNA\". \n",
    "\n",
    "\n",
    "We compute the assortativity coefficient of this graph. Assortativity is a measure of the tendency of nodes in a graph to be connected to other nodes with similar (or dissimilar) attributes. It ranges from -1 to 1 and is given by the following formula:\n",
    "\n",
    " $$\\frac{\\sum_{i} e_{ii} - \\sum_{i} a_{i}b_{i}}{1-\\sum_{i} a_{i}b_{i}}$$ \n",
    "\n",
    " \n",
    "\n",
    "\n",
    "The final mixing score is given as \n",
    "\n",
    "\n",
    "$$mixing ~~ score = 1 - \\frac{\\sum_{i} e_{ii} - \\sum_{i} a_{i}b_{i}}{1-\\sum_{i} a_{i}b_{i}}$$\n",
    "\n",
    "This formula gives $0$ when there is no mixing, since $\\sum_{i} e_{ii} = 1$ and $1$ when there is total mixing with  $e_{ij} = a_{i}b_{j}$ in that case. It ranges from 0 to 1 and could theoretically go to 2. We clip at 1 since above 1 is not expected (more mixing with other modality than with itself)."
   ]
  },
  {
   "cell_type": "code",
   "execution_count": null,
   "id": "85419cdc",
   "metadata": {},
   "outputs": [],
   "source": []
  }
 ],
 "metadata": {
  "kernelspec": {
   "display_name": "project4",
   "language": "python",
   "name": "project4"
  },
  "language_info": {
   "codemirror_mode": {
    "name": "ipython",
    "version": 3
   },
   "file_extension": ".py",
   "mimetype": "text/x-python",
   "name": "python",
   "nbconvert_exporter": "python",
   "pygments_lexer": "ipython3",
   "version": "3.10.8"
  }
 },
 "nbformat": 4,
 "nbformat_minor": 5
}
