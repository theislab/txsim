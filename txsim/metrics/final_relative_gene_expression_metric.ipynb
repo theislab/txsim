{
 "cells": [
  {
   "cell_type": "markdown",
   "id": "718974bc",
   "metadata": {},
   "source": [
    "Prior to computing each similarity metric, we subset the genes and the celltypes to those shared between both modalities. \n",
    "\n",
    "### Relative expression across genes\n",
    "To assess the similarity of the relative expression of gene pairs in each celltype cluster between the two modalities, we compute the following metric:\n",
    "\n",
    "Let the matrix of mean expression values for each gene $g$ in each celltype $ct$ for a given modality $m$ be defined as $$<X>_{ct,g}^m = \\frac{1}{\\lvert C_{ct} \\rvert} \\sum\\limits_{c\\in C_{ct}} X_{c,g}^{m}$$ \n",
    "\n",
    "where $C_{ct}$ is the set of all cells in a given cell type cluster $ct$ and $X_{c,g}^{m}$ is the matrix of normalized expression values for each gene $g$ in each cell $c$. \n",
    "\n",
    "Then, define the difference in mean expression between two genes ($g_1$, $g_2$) in a given celltype $ct$ and a given modality $m$ as\n",
    "\n",
    "$$\\delta_{g1,g2}^{m,ct} = <X>_{ct,g1}^m - <X>_{ct,g2}^m$$\n",
    " \n",
    "To normalize these pairwise differences in mean gene expression so that they are comparable across modalities, we divide by the sum of the absolute values of all possible pairwise differences between genes, $\\sum\\limits_{g1}\\sum\\limits_{g2}\\lvert \\delta_{g1,g2}^{m,ct} \\rvert$. Furthermore, to ensure that the values are comparable across datasets with different numbers of genes, we scale the result by a factor of $N^2_{g}$. In sum, we define the normalized pairwise difference in mean expression between two genes ($g_1$, $g_2$) in a given celltype $ct$ and a given modality $m$ as \n",
    "\n",
    "$$\\delta_{g1,g2}^{'m,ct} = \\frac{N^2_{g} \\delta_{g1,g2}^{m,ct}}{\\sum\\limits_{g1}\\sum\\limits_{g2}\\lvert \\delta_{g1,g2}^{m,ct} \\rvert} $$\n",
    "\n",
    "where $N^2_{g}$ is the total number of genes shared between the two modalities.\n",
    "\n",
    "Finally, we compare the normalized pairwise differences in mean gene expression between modalities ($sc$ and $sp$), as follows: \n",
    "$$\\triangle = \\sum\\limits_{ct} \\sum\\limits_{g1} \\sum\\limits_{g2} \\lvert \\delta_{g1,g2}^{'sp,ct} - \\delta_{g1,g2}^{'sc,ct} \\rvert $$\n",
    "\n",
    "The final metric is bounded at a maximum of 1, representing perfect similarity of relative gene expression between modalities. Furthermore, the metric is constructed such that, when its value is $0$, this represents perfect dissimilarity of relative gene expression between modalities (such that each gene's expression value in each gene pair is swapped). \n",
    "\n",
    "$$ M = 1 - \\frac{\\triangle}{ 2 * \\lvert \\sum\\limits_{ct,g1,g2} \\delta_{g1,g2}^{'m,sc}\\rvert } $$\n",
    "\n",
    "\n",
    "We can further compute the metric on a per-gene and per-celltype basis:\n",
    "\n",
    "1) per gene:\n",
    "$$\\triangle_{g1} = \\sum\\limits_{ct} \\sum\\limits_{g2} \\lvert \\delta_{g1,g2}^{'sp,ct} - \\delta_{g1,g2}^{'sc,ct} \\rvert $$\n",
    "$$ M_{g1} = 1 - \\frac{\\triangle}{ 2 * \\lvert \\sum\\limits_{ct,g2} \\delta_{g1,g2}^{'m,sc}\\rvert } $$\n",
    "\n",
    "2) per cell-type:\n",
    "$$\\triangle_{ct} = \\sum\\limits_{g1} \\sum\\limits_{g2} \\lvert \\delta_{g1,g2}^{'sp,ct} - \\delta_{g1,g2}^{'sc,ct} \\rvert $$\n",
    "$$ M_{ct} = 1 - \\frac{\\triangle}{ 2 * \\lvert \\sum\\limits_{g1,g2}\\delta_{g1,g2}^{'m,sc} \\rvert } $$"
   ]
  },
  {
   "cell_type": "markdown",
   "id": "41b22df6",
   "metadata": {},
   "source": [
    "### TEST the function code below:"
   ]
  },
  {
   "cell_type": "code",
   "execution_count": 1,
   "id": "9dd1dc11",
   "metadata": {},
   "outputs": [],
   "source": [
    "import scanpy as sc\n",
    "import numpy as np\n",
    "import pandas as pd\n",
    "from anndata import AnnData\n",
    "from scipy.sparse import issparse"
   ]
  },
  {
   "cell_type": "code",
   "execution_count": 6,
   "id": "efb484f2",
   "metadata": {},
   "outputs": [],
   "source": [
    "def relative_gene_expression(adata_sp: AnnData, adata_sc: AnnData, key:str='celltype', layer:str='lognorm'):\n",
    "    \"\"\"Calculate the efficiency deviation present between the genes in the panel. \n",
    "    ----------\n",
    "    adata_sp : AnnData\n",
    "        annotated ``AnnData`` object with counts from spatial data\n",
    "    adata_sc : AnnData\n",
    "        annotated ``AnnData`` object with counts from scRNAseq data\n",
    "    pipeline_output : float, optional\n",
    "        Boolean for whether to return just the efficiency deviation (default: True), or to also to return efficiency mean and gene ratios\n",
    "    Returns\n",
    "    -------\n",
    "    efficiency_std : float\n",
    "        Standard deviation of the calculated efficiencies for every gene. The higher it is, the more different the capture efficiencies are in comparison with the scRNAseq for every gene\n",
    "    efficiency_mean: float\n",
    "        Mean efficiency found when comparing scRNAseq and spatial for the overall panel tested\n",
    "    gr: pandas dataframe\n",
    "        Gene ratios, or calculated efficiency for every gene in the panel when comparing scRNAseq to spatial\n",
    "    \"\"\"   \n",
    "    ### SET UP\n",
    "    # set the .X layer of each of the adatas to be log-normalized counts\n",
    "    adata_sp.X = adata_sp.layers[layer]\n",
    "    adata_sc.X = adata_sc.layers[layer]\n",
    "    \n",
    "    # take the intersection of genes in adata_sp and adata_sc, as a list\n",
    "    intersect = list(set(adata_sp.var_names).intersection(set(adata_sc.var_names)))\n",
    "    \n",
    "    # subset adata_sc and adata_sp to only include genes in the intersection of adata_sp and adata_sc \n",
    "    adata_sc=adata_sc[:,intersect]\n",
    "    adata_sp=adata_sp[:,intersect]\n",
    "    \n",
    "    # sparse matrix support\n",
    "    for a in [adata_sc, adata_sp]:\n",
    "        if issparse(a.X):\n",
    "            a.X = a.X.toarray()\n",
    "            \n",
    "    # find the unique celltypes in adata_sc that are also in adata_sp\n",
    "    unique_celltypes=adata_sc.obs.loc[adata_sc.obs[key].isin(adata_sp.obs[key]),key].unique()\n",
    "    \n",
    "    \n",
    "    \n",
    "    #### FIND MEAN GENE EXPRESSION PER CELL TYPE FOR EACH MODALITY\n",
    "    # get the adata_sc cell x gene matrix as a pandas dataframe (w gene names as column names)\n",
    "    exp_sc=pd.DataFrame(adata_sc.X,columns=adata_sc.var.index)\n",
    "    \n",
    "    # get the adata_sp cell x gene matrix as a pandas dataframe (w gene names as column names)\n",
    "    exp_sp=pd.DataFrame(adata_sp.X,columns=adata_sp.var.index)\n",
    "    \n",
    "    # add \"celltype\" label column to exp_sc & exp_sp cell x gene matrices \n",
    "    exp_sc[key]=list(adata_sc.obs[key])\n",
    "    exp_sp[key]=list(adata_sp.obs[key])\n",
    "    \n",
    "    # delete all cells from the exp matrices if they aren't in the set of intersecting celltypes b/t sc & sp data\n",
    "    exp_sc=exp_sc.loc[exp_sc[key].isin(unique_celltypes),:]\n",
    "    exp_sp=exp_sp.loc[exp_sp[key].isin(unique_celltypes),:]\n",
    "    \n",
    "    # find the mean expression for each gene for each celltype in sc and sp data\n",
    "    mean_celltype_sp=exp_sp.groupby(key).mean()\n",
    "    mean_celltype_sc=exp_sc.groupby(key).mean()\n",
    "    \n",
    "    # sort genes in alphabetical order \n",
    "    mean_celltype_sc=mean_celltype_sc.loc[:,mean_celltype_sc.columns.sort_values()]\n",
    "    mean_celltype_sp=mean_celltype_sp.loc[:,mean_celltype_sp.columns.sort_values()]\n",
    "    \n",
    "    \n",
    "    #### CALCULATE PAIRWISE RELATIVE DISTANCES BETWEEN GENES\n",
    "    mean_celltype_sc_np = mean_celltype_sc.to_numpy()\n",
    "    pairwise_distances_sc = mean_celltype_sc_np[:,:,np.newaxis] - mean_celltype_sc_np[:,np.newaxis,:]\n",
    "    pairwise_distances_sc = pairwise_distances_sc.transpose((1,2,0))\n",
    "       \n",
    "    mean_celltype_sp_np = mean_celltype_sp.to_numpy()\n",
    "    pairwise_distances_sp = mean_celltype_sp_np[:,:,np.newaxis] - mean_celltype_sp_np[:,np.newaxis,:]\n",
    "    pairwise_distances_sp = pairwise_distances_sp.transpose((1,2,0))\n",
    "    \n",
    "    #### NORMALIZE THESE PAIRWISE DISTANCES BETWEEN GENES\n",
    "    #calculate sum of absolute distances\n",
    "    abs_diff_sc = np.absolute(pairwise_distances_sc)\n",
    "    abs_diff_sum_sc = np.sum(abs_diff_sc, axis=(0,1))\n",
    "    \n",
    "    abs_diff_sp = np.absolute(pairwise_distances_sp)\n",
    "    abs_diff_sum_sp = np.sum(abs_diff_sp, axis=(0,1))\n",
    "    \n",
    "    # calculate normalization factor\n",
    "    norm_factor_sc = mean_celltype_sc.shape[1]**2 * abs_diff_sum_sc\n",
    "    norm_factor_sp = mean_celltype_sc.shape[1]**2 * abs_diff_sum_sp\n",
    "    \n",
    "    #perform normalization\n",
    "    norm_pairwise_distances_sc = np.divide(pairwise_distances_sc, norm_factor_sc)\n",
    "    norm_pairwise_distances_sp = np.divide(pairwise_distances_sp, norm_factor_sp)\n",
    "    \n",
    "    \n",
    "    ##### CALCULATE OVERALL SCORE,PER-GENE SCORES, PER-CELLTYPE SCORES\n",
    "    overall_score = np.sum(np.absolute(norm_pairwise_distances_sp - norm_pairwise_distances_sc), axis=None)\n",
    "    overall_metric = 1 - (overall_score/(2 * np.sum(np.absolute(norm_pairwise_distances_sc), axis=None)))\n",
    "    \n",
    "    per_gene_score = np.sum(np.absolute(norm_pairwise_distances_sp - norm_pairwise_distances_sc), axis=(1,2))\n",
    "    per_gene_metric = 1 - (per_gene_score/(2 * np.sum(np.absolute(norm_pairwise_distances_sc), axis=(1,2))))\n",
    "    per_gene_metric = pd.DataFrame(per_gene_metric, index=mean_celltype_sc.columns, columns=['score']) #add back the gene labels \n",
    "    \n",
    "    per_celltype_score = np.sum(np.absolute(norm_pairwise_distances_sp - norm_pairwise_distances_sc), axis=(0,1))\n",
    "    per_celltype_metric = 1 - (per_celltype_score/(2 * np.sum(np.absolute(norm_pairwise_distances_sc), axis=(0,1))))\n",
    "    per_celltype_metric = pd.DataFrame(per_celltype_metric, index=mean_celltype_sc.index, columns=['score']) #add back the celltype labels \n",
    "    \n",
    "    return overall_metric, per_gene_metric, per_celltype_metric\n",
    "    \n",
    "     \n",
    "    \n",
    "    "
   ]
  },
  {
   "cell_type": "markdown",
   "id": "b997d3ac",
   "metadata": {},
   "source": [
    "#### import test data"
   ]
  },
  {
   "cell_type": "code",
   "execution_count": 3,
   "id": "b33be90a",
   "metadata": {},
   "outputs": [],
   "source": [
    "## load in example datasets \n",
    "adata_sc = sc.read(\"/mnt/storage/adata_sc.h5ad\")\n",
    "adata_sp = sc.read(\"/mnt/storage/adata_sp.h5ad\")"
   ]
  },
  {
   "cell_type": "code",
   "execution_count": 4,
   "id": "d238932d",
   "metadata": {},
   "outputs": [
    {
     "name": "stderr",
     "output_type": "stream",
     "text": [
      "/home/ubuntu/miniconda3/envs/project-4-env/lib/python3.10/site-packages/scanpy/preprocessing/_normalization.py:197: UserWarning: Some cells have zero counts\n",
      "  warn(UserWarning('Some cells have zero counts'))\n"
     ]
    }
   ],
   "source": [
    "## first normalize the test adatas -- they don't have a lognorm layer yet\n",
    "adata_sc.layers['raw'] = adata_sc.X\n",
    "adata_sp.layers['raw'] = adata_sp.X\n",
    "\n",
    "adata_sc.layers['norm'] = sc.pp.normalize_total(adata=adata_sc, target_sum=None, exclude_highly_expressed=False, max_fraction=0.05, key_added=None, layer=None, copy=False, inplace=False)['X']\n",
    "adata_sp.layers['norm'] = sc.pp.normalize_total(adata=adata_sp, target_sum=None, exclude_highly_expressed=False, max_fraction=0.05, key_added=None, layer=None, copy=False, inplace=False)['X']\n",
    "\n",
    "adata_sc.layers['lognorm'] = adata_sc.layers['norm'].copy()\n",
    "adata_sp.layers['lognorm'] = adata_sp.layers['norm'].copy()\n",
    "\n",
    "sc.pp.log1p(adata_sc, layer='lognorm')\n",
    "sc.pp.log1p(adata_sp, layer='lognorm')"
   ]
  },
  {
   "cell_type": "code",
   "execution_count": 7,
   "id": "686488b3",
   "metadata": {},
   "outputs": [],
   "source": [
    "overall_metric, per_gene_metric, per_celltype_metric = relative_gene_expression(adata_sp, adata_sc)"
   ]
  },
  {
   "cell_type": "code",
   "execution_count": 8,
   "id": "f47ca94f",
   "metadata": {},
   "outputs": [
    {
     "data": {
      "text/plain": [
       "0.5747764624851616"
      ]
     },
     "execution_count": 8,
     "metadata": {},
     "output_type": "execute_result"
    }
   ],
   "source": [
    "overall_metric"
   ]
  },
  {
   "cell_type": "code",
   "execution_count": 9,
   "id": "523828f4",
   "metadata": {},
   "outputs": [
    {
     "data": {
      "text/html": [
       "<div>\n",
       "<style scoped>\n",
       "    .dataframe tbody tr th:only-of-type {\n",
       "        vertical-align: middle;\n",
       "    }\n",
       "\n",
       "    .dataframe tbody tr th {\n",
       "        vertical-align: top;\n",
       "    }\n",
       "\n",
       "    .dataframe thead th {\n",
       "        text-align: right;\n",
       "    }\n",
       "</style>\n",
       "<table border=\"1\" class=\"dataframe\">\n",
       "  <thead>\n",
       "    <tr style=\"text-align: right;\">\n",
       "      <th></th>\n",
       "      <th>score</th>\n",
       "    </tr>\n",
       "  </thead>\n",
       "  <tbody>\n",
       "    <tr>\n",
       "      <th>ALDH1A1</th>\n",
       "      <td>0.343729</td>\n",
       "    </tr>\n",
       "    <tr>\n",
       "      <th>CCDC102B</th>\n",
       "      <td>0.619379</td>\n",
       "    </tr>\n",
       "    <tr>\n",
       "      <th>CDK1</th>\n",
       "      <td>0.624260</td>\n",
       "    </tr>\n",
       "    <tr>\n",
       "      <th>CLDN5</th>\n",
       "      <td>0.556060</td>\n",
       "    </tr>\n",
       "    <tr>\n",
       "      <th>CLU</th>\n",
       "      <td>0.481670</td>\n",
       "    </tr>\n",
       "    <tr>\n",
       "      <th>...</th>\n",
       "      <td>...</td>\n",
       "    </tr>\n",
       "    <tr>\n",
       "      <th>TNNI1</th>\n",
       "      <td>0.629613</td>\n",
       "    </tr>\n",
       "    <tr>\n",
       "      <th>TNNT1</th>\n",
       "      <td>0.548418</td>\n",
       "    </tr>\n",
       "    <tr>\n",
       "      <th>TOP2A</th>\n",
       "      <td>0.567718</td>\n",
       "    </tr>\n",
       "    <tr>\n",
       "      <th>TPM1</th>\n",
       "      <td>0.553430</td>\n",
       "    </tr>\n",
       "    <tr>\n",
       "      <th>TRIL</th>\n",
       "      <td>0.592941</td>\n",
       "    </tr>\n",
       "  </tbody>\n",
       "</table>\n",
       "<p>66 rows × 1 columns</p>\n",
       "</div>"
      ],
      "text/plain": [
       "             score\n",
       "ALDH1A1   0.343729\n",
       "CCDC102B  0.619379\n",
       "CDK1      0.624260\n",
       "CLDN5     0.556060\n",
       "CLU       0.481670\n",
       "...            ...\n",
       "TNNI1     0.629613\n",
       "TNNT1     0.548418\n",
       "TOP2A     0.567718\n",
       "TPM1      0.553430\n",
       "TRIL      0.592941\n",
       "\n",
       "[66 rows x 1 columns]"
      ]
     },
     "execution_count": 9,
     "metadata": {},
     "output_type": "execute_result"
    }
   ],
   "source": [
    "per_gene_metric"
   ]
  },
  {
   "cell_type": "code",
   "execution_count": 10,
   "id": "9a94a708",
   "metadata": {},
   "outputs": [
    {
     "data": {
      "text/html": [
       "<div>\n",
       "<style scoped>\n",
       "    .dataframe tbody tr th:only-of-type {\n",
       "        vertical-align: middle;\n",
       "    }\n",
       "\n",
       "    .dataframe tbody tr th {\n",
       "        vertical-align: top;\n",
       "    }\n",
       "\n",
       "    .dataframe thead th {\n",
       "        text-align: right;\n",
       "    }\n",
       "</style>\n",
       "<table border=\"1\" class=\"dataframe\">\n",
       "  <thead>\n",
       "    <tr style=\"text-align: right;\">\n",
       "      <th></th>\n",
       "      <th>score</th>\n",
       "    </tr>\n",
       "  </thead>\n",
       "  <tbody>\n",
       "    <tr>\n",
       "      <th>STMN2</th>\n",
       "      <td>0.009524</td>\n",
       "    </tr>\n",
       "    <tr>\n",
       "      <th>TBX18</th>\n",
       "      <td>0.150236</td>\n",
       "    </tr>\n",
       "    <tr>\n",
       "      <th>MYBPC3</th>\n",
       "      <td>0.194568</td>\n",
       "    </tr>\n",
       "    <tr>\n",
       "      <th>PAM</th>\n",
       "      <td>0.257041</td>\n",
       "    </tr>\n",
       "    <tr>\n",
       "      <th>MYRF</th>\n",
       "      <td>0.309373</td>\n",
       "    </tr>\n",
       "    <tr>\n",
       "      <th>...</th>\n",
       "      <td>...</td>\n",
       "    </tr>\n",
       "    <tr>\n",
       "      <th>TMEM100</th>\n",
       "      <td>0.691615</td>\n",
       "    </tr>\n",
       "    <tr>\n",
       "      <th>PTN</th>\n",
       "      <td>0.700911</td>\n",
       "    </tr>\n",
       "    <tr>\n",
       "      <th>COL1A2</th>\n",
       "      <td>0.762755</td>\n",
       "    </tr>\n",
       "    <tr>\n",
       "      <th>COL3A1</th>\n",
       "      <td>0.791830</td>\n",
       "    </tr>\n",
       "    <tr>\n",
       "      <th>COL1A1</th>\n",
       "      <td>0.796514</td>\n",
       "    </tr>\n",
       "  </tbody>\n",
       "</table>\n",
       "<p>66 rows × 1 columns</p>\n",
       "</div>"
      ],
      "text/plain": [
       "            score\n",
       "STMN2    0.009524\n",
       "TBX18    0.150236\n",
       "MYBPC3   0.194568\n",
       "PAM      0.257041\n",
       "MYRF     0.309373\n",
       "...           ...\n",
       "TMEM100  0.691615\n",
       "PTN      0.700911\n",
       "COL1A2   0.762755\n",
       "COL3A1   0.791830\n",
       "COL1A1   0.796514\n",
       "\n",
       "[66 rows x 1 columns]"
      ]
     },
     "execution_count": 10,
     "metadata": {},
     "output_type": "execute_result"
    }
   ],
   "source": [
    "per_gene_metric.sort_values(by = 'score')"
   ]
  },
  {
   "cell_type": "code",
   "execution_count": 11,
   "id": "3077b61e",
   "metadata": {},
   "outputs": [
    {
     "data": {
      "text/html": [
       "<div>\n",
       "<style scoped>\n",
       "    .dataframe tbody tr th:only-of-type {\n",
       "        vertical-align: middle;\n",
       "    }\n",
       "\n",
       "    .dataframe tbody tr th {\n",
       "        vertical-align: top;\n",
       "    }\n",
       "\n",
       "    .dataframe thead th {\n",
       "        text-align: right;\n",
       "    }\n",
       "</style>\n",
       "<table border=\"1\" class=\"dataframe\">\n",
       "  <thead>\n",
       "    <tr style=\"text-align: right;\">\n",
       "      <th></th>\n",
       "      <th>score</th>\n",
       "    </tr>\n",
       "    <tr>\n",
       "      <th>celltype</th>\n",
       "      <th></th>\n",
       "    </tr>\n",
       "  </thead>\n",
       "  <tbody>\n",
       "    <tr>\n",
       "      <th>Atrial cardiomyocytes</th>\n",
       "      <td>0.603222</td>\n",
       "    </tr>\n",
       "    <tr>\n",
       "      <th>Capillary endothelium</th>\n",
       "      <td>0.649237</td>\n",
       "    </tr>\n",
       "    <tr>\n",
       "      <th>Cardiac neural crest cells</th>\n",
       "      <td>0.182063</td>\n",
       "    </tr>\n",
       "    <tr>\n",
       "      <th>Endothelium / pericytes</th>\n",
       "      <td>0.442457</td>\n",
       "    </tr>\n",
       "    <tr>\n",
       "      <th>Epicardial cells</th>\n",
       "      <td>0.461399</td>\n",
       "    </tr>\n",
       "    <tr>\n",
       "      <th>Fibroblast-like</th>\n",
       "      <td>0.744147</td>\n",
       "    </tr>\n",
       "    <tr>\n",
       "      <th>Myoz2-enriched cardiomyocytes</th>\n",
       "      <td>0.651561</td>\n",
       "    </tr>\n",
       "    <tr>\n",
       "      <th>Smooth muscle cells</th>\n",
       "      <td>0.751999</td>\n",
       "    </tr>\n",
       "    <tr>\n",
       "      <th>Ventricular cardiomyocytes</th>\n",
       "      <td>0.686895</td>\n",
       "    </tr>\n",
       "  </tbody>\n",
       "</table>\n",
       "</div>"
      ],
      "text/plain": [
       "                                  score\n",
       "celltype                               \n",
       "Atrial cardiomyocytes          0.603222\n",
       "Capillary endothelium          0.649237\n",
       "Cardiac neural crest cells     0.182063\n",
       "Endothelium / pericytes        0.442457\n",
       "Epicardial cells               0.461399\n",
       "Fibroblast-like                0.744147\n",
       "Myoz2-enriched cardiomyocytes  0.651561\n",
       "Smooth muscle cells            0.751999\n",
       "Ventricular cardiomyocytes     0.686895"
      ]
     },
     "execution_count": 11,
     "metadata": {},
     "output_type": "execute_result"
    }
   ],
   "source": [
    "per_celltype_metric"
   ]
  },
  {
   "cell_type": "code",
   "execution_count": 12,
   "id": "96261bae",
   "metadata": {},
   "outputs": [
    {
     "data": {
      "text/html": [
       "<div>\n",
       "<style scoped>\n",
       "    .dataframe tbody tr th:only-of-type {\n",
       "        vertical-align: middle;\n",
       "    }\n",
       "\n",
       "    .dataframe tbody tr th {\n",
       "        vertical-align: top;\n",
       "    }\n",
       "\n",
       "    .dataframe thead th {\n",
       "        text-align: right;\n",
       "    }\n",
       "</style>\n",
       "<table border=\"1\" class=\"dataframe\">\n",
       "  <thead>\n",
       "    <tr style=\"text-align: right;\">\n",
       "      <th></th>\n",
       "      <th>score</th>\n",
       "    </tr>\n",
       "    <tr>\n",
       "      <th>celltype</th>\n",
       "      <th></th>\n",
       "    </tr>\n",
       "  </thead>\n",
       "  <tbody>\n",
       "    <tr>\n",
       "      <th>Cardiac neural crest cells</th>\n",
       "      <td>0.182063</td>\n",
       "    </tr>\n",
       "    <tr>\n",
       "      <th>Endothelium / pericytes</th>\n",
       "      <td>0.442457</td>\n",
       "    </tr>\n",
       "    <tr>\n",
       "      <th>Epicardial cells</th>\n",
       "      <td>0.461399</td>\n",
       "    </tr>\n",
       "    <tr>\n",
       "      <th>Atrial cardiomyocytes</th>\n",
       "      <td>0.603222</td>\n",
       "    </tr>\n",
       "    <tr>\n",
       "      <th>Capillary endothelium</th>\n",
       "      <td>0.649237</td>\n",
       "    </tr>\n",
       "    <tr>\n",
       "      <th>Myoz2-enriched cardiomyocytes</th>\n",
       "      <td>0.651561</td>\n",
       "    </tr>\n",
       "    <tr>\n",
       "      <th>Ventricular cardiomyocytes</th>\n",
       "      <td>0.686895</td>\n",
       "    </tr>\n",
       "    <tr>\n",
       "      <th>Fibroblast-like</th>\n",
       "      <td>0.744147</td>\n",
       "    </tr>\n",
       "    <tr>\n",
       "      <th>Smooth muscle cells</th>\n",
       "      <td>0.751999</td>\n",
       "    </tr>\n",
       "  </tbody>\n",
       "</table>\n",
       "</div>"
      ],
      "text/plain": [
       "                                  score\n",
       "celltype                               \n",
       "Cardiac neural crest cells     0.182063\n",
       "Endothelium / pericytes        0.442457\n",
       "Epicardial cells               0.461399\n",
       "Atrial cardiomyocytes          0.603222\n",
       "Capillary endothelium          0.649237\n",
       "Myoz2-enriched cardiomyocytes  0.651561\n",
       "Ventricular cardiomyocytes     0.686895\n",
       "Fibroblast-like                0.744147\n",
       "Smooth muscle cells            0.751999"
      ]
     },
     "execution_count": 12,
     "metadata": {},
     "output_type": "execute_result"
    }
   ],
   "source": [
    "per_celltype_metric.sort_values(by = 'score')"
   ]
  },
  {
   "cell_type": "code",
   "execution_count": null,
   "id": "66546572",
   "metadata": {},
   "outputs": [],
   "source": []
  },
  {
   "cell_type": "markdown",
   "id": "24c718a8",
   "metadata": {},
   "source": [
    "### Finally, test the function in chunks..."
   ]
  },
  {
   "cell_type": "code",
   "execution_count": 13,
   "id": "a8cb4608",
   "metadata": {},
   "outputs": [],
   "source": [
    "layer='lognorm'\n",
    "key='celltype'\n",
    "\n",
    "### SET UP\n",
    "# set the .X layer of each of the adatas to be log-normalized counts\n",
    "adata_sp.X = adata_sp.layers[layer]\n",
    "adata_sc.X = adata_sc.layers[layer]\n",
    "    \n",
    "# take the intersection of genes in adata_sp and adata_sc, as a list\n",
    "intersect = list(set(adata_sp.var_names).intersection(set(adata_sc.var_names)))\n",
    "\n",
    "# subset adata_sc and adata_sp to only include genes in the intersection of adata_sp and adata_sc \n",
    "adata_sc=adata_sc[:,intersect]\n",
    "adata_sp=adata_sp[:,intersect]\n",
    "\n",
    "# sparse matrix support\n",
    "for a in [adata_sc, adata_sp]:\n",
    "    if issparse(a.X):\n",
    "        a.X = a.X.toarray()\n",
    "\n",
    "# find the unique celltypes in adata_sc that are also in adata_sp\n",
    "unique_celltypes=adata_sc.obs.loc[adata_sc.obs[key].isin(adata_sp.obs[key]),key].unique()\n"
   ]
  },
  {
   "cell_type": "code",
   "execution_count": 14,
   "id": "ee218220",
   "metadata": {},
   "outputs": [],
   "source": [
    "#### FIND MEAN GENE EXPRESSION PER CELL TYPE FOR EACH MODALITY\n",
    "# get the adata_sc cell x gene matrix as a pandas dataframe (w gene names as column names)\n",
    "exp_sc=pd.DataFrame(adata_sc.X,columns=adata_sc.var.index)\n",
    "\n",
    "# get the adata_sp cell x gene matrix as a pandas dataframe (w gene names as column names)\n",
    "exp_sp=pd.DataFrame(adata_sp.X,columns=adata_sp.var.index)\n",
    "\n",
    "# add \"celltype\" label column to exp_sc & exp_sp cell x gene matrices \n",
    "exp_sc[key]=list(adata_sc.obs[key])\n",
    "exp_sp[key]=list(adata_sp.obs[key])\n",
    "\n",
    "# delete all cells from the exp matrices if they aren't in the set of intersecting celltypes b/t sc & sp data\n",
    "exp_sc=exp_sc.loc[exp_sc[key].isin(unique_celltypes),:]\n",
    "exp_sp=exp_sp.loc[exp_sp[key].isin(unique_celltypes),:]\n",
    "\n",
    "# find the mean expression for each gene for each celltype in sc and sp data\n",
    "mean_celltype_sp=exp_sp.groupby(key).mean()\n",
    "mean_celltype_sc=exp_sc.groupby(key).mean()\n",
    "\n",
    "# sort genes in alphabetical order \n",
    "mean_celltype_sc=mean_celltype_sc.loc[:,mean_celltype_sc.columns.sort_values()]\n",
    "mean_celltype_sp=mean_celltype_sp.loc[:,mean_celltype_sp.columns.sort_values()]"
   ]
  },
  {
   "cell_type": "code",
   "execution_count": 17,
   "id": "0e4eaeee",
   "metadata": {},
   "outputs": [],
   "source": [
    "#### CALCULATE PAIRWISE RELATIVE DISTANCES BETWEEN GENES\n",
    "mean_celltype_sc_np = mean_celltype_sc.to_numpy()\n",
    "pairwise_distances_sc = mean_celltype_sc_np[:,:,np.newaxis] - mean_celltype_sc_np[:,np.newaxis,:]\n",
    "pairwise_distances_sc = pairwise_distances_sc.transpose((1,2,0))\n",
    "\n",
    "mean_celltype_sp_np = mean_celltype_sp.to_numpy()\n",
    "pairwise_distances_sp = mean_celltype_sp_np[:,:,np.newaxis] - mean_celltype_sp_np[:,np.newaxis,:]\n",
    "pairwise_distances_sp = pairwise_distances_sp.transpose((1,2,0))\n"
   ]
  },
  {
   "cell_type": "code",
   "execution_count": 24,
   "id": "acf82c12",
   "metadata": {},
   "outputs": [
    {
     "data": {
      "text/plain": [
       "array([[ 0.        ,  0.05628961, -0.0634018 , ..., -0.14424898,\n",
       "        -4.3673544 , -0.01307469],\n",
       "       [-0.05628961,  0.        , -0.11969141, ..., -0.20053859,\n",
       "        -4.423644  , -0.06936429],\n",
       "       [ 0.0634018 ,  0.11969141,  0.        , ..., -0.08084717,\n",
       "        -4.3039527 ,  0.05032711],\n",
       "       ...,\n",
       "       [ 0.14424898,  0.20053859,  0.08084717, ...,  0.        ,\n",
       "        -4.2231054 ,  0.1311743 ],\n",
       "       [ 4.3673544 ,  4.423644  ,  4.3039527 , ...,  4.2231054 ,\n",
       "         0.        ,  4.3542795 ],\n",
       "       [ 0.01307469,  0.06936429, -0.05032711, ..., -0.1311743 ,\n",
       "        -4.3542795 ,  0.        ]], dtype=float32)"
      ]
     },
     "execution_count": 24,
     "metadata": {},
     "output_type": "execute_result"
    }
   ],
   "source": [
    "pairwise_distances_sc[:,:,0]"
   ]
  },
  {
   "cell_type": "code",
   "execution_count": 25,
   "id": "ceca7254",
   "metadata": {},
   "outputs": [
    {
     "data": {
      "text/html": [
       "<div>\n",
       "<style scoped>\n",
       "    .dataframe tbody tr th:only-of-type {\n",
       "        vertical-align: middle;\n",
       "    }\n",
       "\n",
       "    .dataframe tbody tr th {\n",
       "        vertical-align: top;\n",
       "    }\n",
       "\n",
       "    .dataframe thead th {\n",
       "        text-align: right;\n",
       "    }\n",
       "</style>\n",
       "<table border=\"1\" class=\"dataframe\">\n",
       "  <thead>\n",
       "    <tr style=\"text-align: right;\">\n",
       "      <th></th>\n",
       "      <th>ALDH1A1</th>\n",
       "      <th>CCDC102B</th>\n",
       "      <th>CDK1</th>\n",
       "      <th>CLDN5</th>\n",
       "      <th>CLU</th>\n",
       "      <th>COL1A1</th>\n",
       "      <th>COL1A2</th>\n",
       "      <th>COL3A1</th>\n",
       "      <th>COL9A2</th>\n",
       "      <th>COX4I2</th>\n",
       "      <th>...</th>\n",
       "      <th>TBX18</th>\n",
       "      <th>TBX5</th>\n",
       "      <th>TCF21</th>\n",
       "      <th>TM4SF18</th>\n",
       "      <th>TMEM100</th>\n",
       "      <th>TNNI1</th>\n",
       "      <th>TNNT1</th>\n",
       "      <th>TOP2A</th>\n",
       "      <th>TPM1</th>\n",
       "      <th>TRIL</th>\n",
       "    </tr>\n",
       "    <tr>\n",
       "      <th>celltype</th>\n",
       "      <th></th>\n",
       "      <th></th>\n",
       "      <th></th>\n",
       "      <th></th>\n",
       "      <th></th>\n",
       "      <th></th>\n",
       "      <th></th>\n",
       "      <th></th>\n",
       "      <th></th>\n",
       "      <th></th>\n",
       "      <th></th>\n",
       "      <th></th>\n",
       "      <th></th>\n",
       "      <th></th>\n",
       "      <th></th>\n",
       "      <th></th>\n",
       "      <th></th>\n",
       "      <th></th>\n",
       "      <th></th>\n",
       "      <th></th>\n",
       "      <th></th>\n",
       "    </tr>\n",
       "  </thead>\n",
       "  <tbody>\n",
       "    <tr>\n",
       "      <th>Atrial cardiomyocytes</th>\n",
       "      <td>0.070622</td>\n",
       "      <td>0.014332</td>\n",
       "      <td>0.134023</td>\n",
       "      <td>0.000000</td>\n",
       "      <td>0.173841</td>\n",
       "      <td>0.770815</td>\n",
       "      <td>0.631345</td>\n",
       "      <td>0.567033</td>\n",
       "      <td>0.011336</td>\n",
       "      <td>0.000000</td>\n",
       "      <td>...</td>\n",
       "      <td>0.315678</td>\n",
       "      <td>0.930767</td>\n",
       "      <td>0.212845</td>\n",
       "      <td>0.014428</td>\n",
       "      <td>0.014428</td>\n",
       "      <td>3.255895</td>\n",
       "      <td>0.058358</td>\n",
       "      <td>0.214871</td>\n",
       "      <td>4.437976</td>\n",
       "      <td>0.083696</td>\n",
       "    </tr>\n",
       "    <tr>\n",
       "      <th>Capillary endothelium</th>\n",
       "      <td>0.018484</td>\n",
       "      <td>0.008688</td>\n",
       "      <td>0.127884</td>\n",
       "      <td>0.121026</td>\n",
       "      <td>0.679183</td>\n",
       "      <td>0.848604</td>\n",
       "      <td>1.665936</td>\n",
       "      <td>3.010427</td>\n",
       "      <td>0.029125</td>\n",
       "      <td>0.053380</td>\n",
       "      <td>...</td>\n",
       "      <td>0.004407</td>\n",
       "      <td>0.012320</td>\n",
       "      <td>0.024709</td>\n",
       "      <td>0.037562</td>\n",
       "      <td>1.816919</td>\n",
       "      <td>0.409603</td>\n",
       "      <td>0.034472</td>\n",
       "      <td>0.124519</td>\n",
       "      <td>1.557335</td>\n",
       "      <td>0.013310</td>\n",
       "    </tr>\n",
       "    <tr>\n",
       "      <th>Cardiac neural crest cells</th>\n",
       "      <td>0.000000</td>\n",
       "      <td>0.000000</td>\n",
       "      <td>0.275400</td>\n",
       "      <td>0.000000</td>\n",
       "      <td>0.000000</td>\n",
       "      <td>0.327139</td>\n",
       "      <td>0.105324</td>\n",
       "      <td>0.226673</td>\n",
       "      <td>0.106637</td>\n",
       "      <td>0.000000</td>\n",
       "      <td>...</td>\n",
       "      <td>0.000000</td>\n",
       "      <td>0.000000</td>\n",
       "      <td>0.000000</td>\n",
       "      <td>0.000000</td>\n",
       "      <td>0.000000</td>\n",
       "      <td>0.595246</td>\n",
       "      <td>0.221815</td>\n",
       "      <td>0.412716</td>\n",
       "      <td>1.205898</td>\n",
       "      <td>0.000000</td>\n",
       "    </tr>\n",
       "    <tr>\n",
       "      <th>Endothelium / pericytes</th>\n",
       "      <td>0.021827</td>\n",
       "      <td>0.020329</td>\n",
       "      <td>0.277732</td>\n",
       "      <td>1.842660</td>\n",
       "      <td>0.091237</td>\n",
       "      <td>0.174514</td>\n",
       "      <td>0.617577</td>\n",
       "      <td>0.590308</td>\n",
       "      <td>0.000000</td>\n",
       "      <td>0.000000</td>\n",
       "      <td>...</td>\n",
       "      <td>0.022038</td>\n",
       "      <td>0.000000</td>\n",
       "      <td>0.016606</td>\n",
       "      <td>1.061958</td>\n",
       "      <td>0.046820</td>\n",
       "      <td>0.504329</td>\n",
       "      <td>0.000000</td>\n",
       "      <td>0.277497</td>\n",
       "      <td>1.308317</td>\n",
       "      <td>0.024577</td>\n",
       "    </tr>\n",
       "    <tr>\n",
       "      <th>Epicardial cells</th>\n",
       "      <td>0.020325</td>\n",
       "      <td>0.193309</td>\n",
       "      <td>0.138615</td>\n",
       "      <td>0.025699</td>\n",
       "      <td>0.298250</td>\n",
       "      <td>3.206337</td>\n",
       "      <td>2.527879</td>\n",
       "      <td>2.527611</td>\n",
       "      <td>0.087567</td>\n",
       "      <td>0.034449</td>\n",
       "      <td>...</td>\n",
       "      <td>0.497212</td>\n",
       "      <td>0.109456</td>\n",
       "      <td>1.388747</td>\n",
       "      <td>0.008125</td>\n",
       "      <td>0.047454</td>\n",
       "      <td>0.997150</td>\n",
       "      <td>0.963487</td>\n",
       "      <td>0.146544</td>\n",
       "      <td>2.759103</td>\n",
       "      <td>0.244209</td>\n",
       "    </tr>\n",
       "  </tbody>\n",
       "</table>\n",
       "<p>5 rows × 66 columns</p>\n",
       "</div>"
      ],
      "text/plain": [
       "                              ALDH1A1  CCDC102B      CDK1     CLDN5       CLU  \\\n",
       "celltype                                                                        \n",
       "Atrial cardiomyocytes        0.070622  0.014332  0.134023  0.000000  0.173841   \n",
       "Capillary endothelium        0.018484  0.008688  0.127884  0.121026  0.679183   \n",
       "Cardiac neural crest cells   0.000000  0.000000  0.275400  0.000000  0.000000   \n",
       "Endothelium / pericytes      0.021827  0.020329  0.277732  1.842660  0.091237   \n",
       "Epicardial cells             0.020325  0.193309  0.138615  0.025699  0.298250   \n",
       "\n",
       "                               COL1A1    COL1A2    COL3A1    COL9A2    COX4I2  \\\n",
       "celltype                                                                        \n",
       "Atrial cardiomyocytes        0.770815  0.631345  0.567033  0.011336  0.000000   \n",
       "Capillary endothelium        0.848604  1.665936  3.010427  0.029125  0.053380   \n",
       "Cardiac neural crest cells   0.327139  0.105324  0.226673  0.106637  0.000000   \n",
       "Endothelium / pericytes      0.174514  0.617577  0.590308  0.000000  0.000000   \n",
       "Epicardial cells             3.206337  2.527879  2.527611  0.087567  0.034449   \n",
       "\n",
       "                             ...     TBX18      TBX5     TCF21   TM4SF18  \\\n",
       "celltype                     ...                                           \n",
       "Atrial cardiomyocytes        ...  0.315678  0.930767  0.212845  0.014428   \n",
       "Capillary endothelium        ...  0.004407  0.012320  0.024709  0.037562   \n",
       "Cardiac neural crest cells   ...  0.000000  0.000000  0.000000  0.000000   \n",
       "Endothelium / pericytes      ...  0.022038  0.000000  0.016606  1.061958   \n",
       "Epicardial cells             ...  0.497212  0.109456  1.388747  0.008125   \n",
       "\n",
       "                              TMEM100     TNNI1     TNNT1     TOP2A      TPM1  \\\n",
       "celltype                                                                        \n",
       "Atrial cardiomyocytes        0.014428  3.255895  0.058358  0.214871  4.437976   \n",
       "Capillary endothelium        1.816919  0.409603  0.034472  0.124519  1.557335   \n",
       "Cardiac neural crest cells   0.000000  0.595246  0.221815  0.412716  1.205898   \n",
       "Endothelium / pericytes      0.046820  0.504329  0.000000  0.277497  1.308317   \n",
       "Epicardial cells             0.047454  0.997150  0.963487  0.146544  2.759103   \n",
       "\n",
       "                                 TRIL  \n",
       "celltype                               \n",
       "Atrial cardiomyocytes        0.083696  \n",
       "Capillary endothelium        0.013310  \n",
       "Cardiac neural crest cells   0.000000  \n",
       "Endothelium / pericytes      0.024577  \n",
       "Epicardial cells             0.244209  \n",
       "\n",
       "[5 rows x 66 columns]"
      ]
     },
     "execution_count": 25,
     "metadata": {},
     "output_type": "execute_result"
    }
   ],
   "source": [
    "mean_celltype_sc.head()"
   ]
  },
  {
   "cell_type": "code",
   "execution_count": 27,
   "id": "57988714",
   "metadata": {},
   "outputs": [
    {
     "data": {
      "text/plain": [
       "True"
      ]
     },
     "execution_count": 27,
     "metadata": {},
     "output_type": "execute_result"
    }
   ],
   "source": [
    "## compare values to check that this pairwise difference operation worked\n",
    "(mean_celltype_sc.iloc[0,0] - mean_celltype_sc.iloc[0,1])  == pairwise_distances_sc[0,1,0]"
   ]
  },
  {
   "cell_type": "code",
   "execution_count": 28,
   "id": "048d9b20",
   "metadata": {},
   "outputs": [
    {
     "data": {
      "text/plain": [
       "True"
      ]
     },
     "execution_count": 28,
     "metadata": {},
     "output_type": "execute_result"
    }
   ],
   "source": [
    "(mean_celltype_sc.iloc[8,1] - mean_celltype_sc.iloc[8,4])  == pairwise_distances_sc[1,4,8]"
   ]
  },
  {
   "cell_type": "code",
   "execution_count": 30,
   "id": "02940391",
   "metadata": {},
   "outputs": [
    {
     "data": {
      "text/plain": [
       "True"
      ]
     },
     "execution_count": 30,
     "metadata": {},
     "output_type": "execute_result"
    }
   ],
   "source": [
    "(mean_celltype_sc.iloc[5,63] - mean_celltype_sc.iloc[5,3])  == pairwise_distances_sc[63,3,5]"
   ]
  },
  {
   "cell_type": "code",
   "execution_count": 31,
   "id": "fe6d093d",
   "metadata": {},
   "outputs": [],
   "source": [
    "#### NORMALIZE THESE PAIRWISE DISTANCES BETWEEN GENES\n",
    "#calculate sum of absolute distances\n",
    "abs_diff_sc = np.absolute(pairwise_distances_sc)\n",
    "abs_diff_sum_sc = np.sum(abs_diff_sc, axis=(0,1))\n",
    "\n",
    "abs_diff_sp = np.absolute(pairwise_distances_sp)\n",
    "abs_diff_sum_sp = np.sum(abs_diff_sp, axis=(0,1))"
   ]
  },
  {
   "cell_type": "code",
   "execution_count": 33,
   "id": "8bdbf4f7",
   "metadata": {},
   "outputs": [
    {
     "data": {
      "text/plain": [
       "0.0"
      ]
     },
     "execution_count": 33,
     "metadata": {},
     "output_type": "execute_result"
    }
   ],
   "source": [
    "abs_diff_sc.min()"
   ]
  },
  {
   "cell_type": "code",
   "execution_count": 34,
   "id": "beb8241f",
   "metadata": {},
   "outputs": [
    {
     "data": {
      "text/plain": [
       "array([3682.1406, 2009.1934,  831.8567, 1302.214 , 2967.219 , 2672.2893,\n",
       "       4150.291 , 3265.994 , 4722.6807], dtype=float32)"
      ]
     },
     "execution_count": 34,
     "metadata": {},
     "output_type": "execute_result"
    }
   ],
   "source": [
    "abs_diff_sum_sc #across all celltypes"
   ]
  },
  {
   "cell_type": "code",
   "execution_count": 35,
   "id": "b6aa5058",
   "metadata": {},
   "outputs": [],
   "source": [
    "# calculate normalization factor\n",
    "norm_factor_sc = mean_celltype_sc.shape[1]**2 * abs_diff_sum_sc\n",
    "norm_factor_sp = mean_celltype_sc.shape[1]**2 * abs_diff_sum_sp"
   ]
  },
  {
   "cell_type": "code",
   "execution_count": 36,
   "id": "81be11fc",
   "metadata": {},
   "outputs": [
    {
     "data": {
      "text/plain": [
       "array([16039405. ,  8752046. ,  3623567.8,  5672444. , 12925206. ,\n",
       "       11640492. , 18078668. , 14226669. , 20571996. ], dtype=float32)"
      ]
     },
     "execution_count": 36,
     "metadata": {},
     "output_type": "execute_result"
    }
   ],
   "source": [
    "norm_factor_sc"
   ]
  },
  {
   "cell_type": "code",
   "execution_count": 37,
   "id": "c794ad76",
   "metadata": {},
   "outputs": [],
   "source": [
    "#perform normalization\n",
    "norm_pairwise_distances_sc = np.divide(pairwise_distances_sc, norm_factor_sc)\n",
    "norm_pairwise_distances_sp = np.divide(pairwise_distances_sp, norm_factor_sp)"
   ]
  },
  {
   "cell_type": "code",
   "execution_count": 38,
   "id": "0df601bf",
   "metadata": {},
   "outputs": [
    {
     "data": {
      "text/plain": [
       "(66, 66, 9)"
      ]
     },
     "execution_count": 38,
     "metadata": {},
     "output_type": "execute_result"
    }
   ],
   "source": [
    "norm_pairwise_distances_sc.shape"
   ]
  },
  {
   "cell_type": "code",
   "execution_count": 39,
   "id": "8b988e25",
   "metadata": {},
   "outputs": [
    {
     "data": {
      "text/plain": [
       "True"
      ]
     },
     "execution_count": 39,
     "metadata": {},
     "output_type": "execute_result"
    }
   ],
   "source": [
    "norm_pairwise_distances_sc[0,1,0] == pairwise_distances_sc[0,1,0]/norm_factor_sc[0]"
   ]
  },
  {
   "cell_type": "code",
   "execution_count": 40,
   "id": "7240b641",
   "metadata": {},
   "outputs": [
    {
     "data": {
      "text/plain": [
       "True"
      ]
     },
     "execution_count": 40,
     "metadata": {},
     "output_type": "execute_result"
    }
   ],
   "source": [
    "norm_pairwise_distances_sc[1,2,5] == pairwise_distances_sc[1,2,5]/norm_factor_sc[5]"
   ]
  },
  {
   "cell_type": "code",
   "execution_count": 41,
   "id": "e65f9569",
   "metadata": {},
   "outputs": [],
   "source": [
    "##### CALCULATE OVERALL SCORE,PER-GENE SCORES, PER-CELLTYPE SCORES\n",
    "overall_score = np.sum(np.absolute(norm_pairwise_distances_sp - norm_pairwise_distances_sc), axis=None)\n",
    "overall_metric = 1 - (overall_score/(2 * np.sum(np.absolute(norm_pairwise_distances_sc), axis=None)))\n"
   ]
  },
  {
   "cell_type": "code",
   "execution_count": 42,
   "id": "66753a6a",
   "metadata": {},
   "outputs": [
    {
     "data": {
      "text/plain": [
       "0.0017571226"
      ]
     },
     "execution_count": 42,
     "metadata": {},
     "output_type": "execute_result"
    }
   ],
   "source": [
    "overall_score"
   ]
  },
  {
   "cell_type": "code",
   "execution_count": 43,
   "id": "f6b91117",
   "metadata": {},
   "outputs": [
    {
     "data": {
      "text/plain": [
       "0.5747764624851616"
      ]
     },
     "execution_count": 43,
     "metadata": {},
     "output_type": "execute_result"
    }
   ],
   "source": [
    "overall_metric"
   ]
  },
  {
   "cell_type": "code",
   "execution_count": 44,
   "id": "2b1a7f88",
   "metadata": {},
   "outputs": [],
   "source": [
    "per_gene_score = np.sum(np.absolute(norm_pairwise_distances_sp - norm_pairwise_distances_sc), axis=(1,2))\n",
    "per_gene_metric = 1 - (per_gene_score/(2 * np.sum(np.absolute(norm_pairwise_distances_sc), axis=(1,2))))\n",
    "per_gene_metric = pd.DataFrame(per_gene_metric, index=mean_celltype_sc.columns, columns=['score']) #add back the gene labels \n",
    "\n"
   ]
  },
  {
   "cell_type": "code",
   "execution_count": 46,
   "id": "85e5d409",
   "metadata": {},
   "outputs": [
    {
     "data": {
      "text/html": [
       "<div>\n",
       "<style scoped>\n",
       "    .dataframe tbody tr th:only-of-type {\n",
       "        vertical-align: middle;\n",
       "    }\n",
       "\n",
       "    .dataframe tbody tr th {\n",
       "        vertical-align: top;\n",
       "    }\n",
       "\n",
       "    .dataframe thead th {\n",
       "        text-align: right;\n",
       "    }\n",
       "</style>\n",
       "<table border=\"1\" class=\"dataframe\">\n",
       "  <thead>\n",
       "    <tr style=\"text-align: right;\">\n",
       "      <th></th>\n",
       "      <th>score</th>\n",
       "    </tr>\n",
       "  </thead>\n",
       "  <tbody>\n",
       "    <tr>\n",
       "      <th>ALDH1A1</th>\n",
       "      <td>0.343729</td>\n",
       "    </tr>\n",
       "    <tr>\n",
       "      <th>CCDC102B</th>\n",
       "      <td>0.619379</td>\n",
       "    </tr>\n",
       "    <tr>\n",
       "      <th>CDK1</th>\n",
       "      <td>0.624260</td>\n",
       "    </tr>\n",
       "    <tr>\n",
       "      <th>CLDN5</th>\n",
       "      <td>0.556060</td>\n",
       "    </tr>\n",
       "    <tr>\n",
       "      <th>CLU</th>\n",
       "      <td>0.481670</td>\n",
       "    </tr>\n",
       "    <tr>\n",
       "      <th>...</th>\n",
       "      <td>...</td>\n",
       "    </tr>\n",
       "    <tr>\n",
       "      <th>TNNI1</th>\n",
       "      <td>0.629613</td>\n",
       "    </tr>\n",
       "    <tr>\n",
       "      <th>TNNT1</th>\n",
       "      <td>0.548418</td>\n",
       "    </tr>\n",
       "    <tr>\n",
       "      <th>TOP2A</th>\n",
       "      <td>0.567718</td>\n",
       "    </tr>\n",
       "    <tr>\n",
       "      <th>TPM1</th>\n",
       "      <td>0.553430</td>\n",
       "    </tr>\n",
       "    <tr>\n",
       "      <th>TRIL</th>\n",
       "      <td>0.592941</td>\n",
       "    </tr>\n",
       "  </tbody>\n",
       "</table>\n",
       "<p>66 rows × 1 columns</p>\n",
       "</div>"
      ],
      "text/plain": [
       "             score\n",
       "ALDH1A1   0.343729\n",
       "CCDC102B  0.619379\n",
       "CDK1      0.624260\n",
       "CLDN5     0.556060\n",
       "CLU       0.481670\n",
       "...            ...\n",
       "TNNI1     0.629613\n",
       "TNNT1     0.548418\n",
       "TOP2A     0.567718\n",
       "TPM1      0.553430\n",
       "TRIL      0.592941\n",
       "\n",
       "[66 rows x 1 columns]"
      ]
     },
     "execution_count": 46,
     "metadata": {},
     "output_type": "execute_result"
    }
   ],
   "source": [
    "per_gene_metric"
   ]
  },
  {
   "cell_type": "code",
   "execution_count": 47,
   "id": "5d4e7810",
   "metadata": {},
   "outputs": [],
   "source": [
    "per_celltype_score = np.sum(np.absolute(norm_pairwise_distances_sp - norm_pairwise_distances_sc), axis=(0,1))\n",
    "per_celltype_metric = 1 - (per_celltype_score/(2 * np.sum(np.absolute(norm_pairwise_distances_sc), axis=(0,1))))\n",
    "per_celltype_metric = pd.DataFrame(per_celltype_metric, index=mean_celltype_sc.index, columns=['score']) #add back the celltype labels \n"
   ]
  },
  {
   "cell_type": "code",
   "execution_count": 48,
   "id": "49da65e8",
   "metadata": {},
   "outputs": [
    {
     "data": {
      "text/html": [
       "<div>\n",
       "<style scoped>\n",
       "    .dataframe tbody tr th:only-of-type {\n",
       "        vertical-align: middle;\n",
       "    }\n",
       "\n",
       "    .dataframe tbody tr th {\n",
       "        vertical-align: top;\n",
       "    }\n",
       "\n",
       "    .dataframe thead th {\n",
       "        text-align: right;\n",
       "    }\n",
       "</style>\n",
       "<table border=\"1\" class=\"dataframe\">\n",
       "  <thead>\n",
       "    <tr style=\"text-align: right;\">\n",
       "      <th></th>\n",
       "      <th>score</th>\n",
       "    </tr>\n",
       "    <tr>\n",
       "      <th>celltype</th>\n",
       "      <th></th>\n",
       "    </tr>\n",
       "  </thead>\n",
       "  <tbody>\n",
       "    <tr>\n",
       "      <th>Atrial cardiomyocytes</th>\n",
       "      <td>0.603222</td>\n",
       "    </tr>\n",
       "    <tr>\n",
       "      <th>Capillary endothelium</th>\n",
       "      <td>0.649237</td>\n",
       "    </tr>\n",
       "    <tr>\n",
       "      <th>Cardiac neural crest cells</th>\n",
       "      <td>0.182063</td>\n",
       "    </tr>\n",
       "    <tr>\n",
       "      <th>Endothelium / pericytes</th>\n",
       "      <td>0.442457</td>\n",
       "    </tr>\n",
       "    <tr>\n",
       "      <th>Epicardial cells</th>\n",
       "      <td>0.461399</td>\n",
       "    </tr>\n",
       "    <tr>\n",
       "      <th>Fibroblast-like</th>\n",
       "      <td>0.744147</td>\n",
       "    </tr>\n",
       "    <tr>\n",
       "      <th>Myoz2-enriched cardiomyocytes</th>\n",
       "      <td>0.651561</td>\n",
       "    </tr>\n",
       "    <tr>\n",
       "      <th>Smooth muscle cells</th>\n",
       "      <td>0.751999</td>\n",
       "    </tr>\n",
       "    <tr>\n",
       "      <th>Ventricular cardiomyocytes</th>\n",
       "      <td>0.686895</td>\n",
       "    </tr>\n",
       "  </tbody>\n",
       "</table>\n",
       "</div>"
      ],
      "text/plain": [
       "                                  score\n",
       "celltype                               \n",
       "Atrial cardiomyocytes          0.603222\n",
       "Capillary endothelium          0.649237\n",
       "Cardiac neural crest cells     0.182063\n",
       "Endothelium / pericytes        0.442457\n",
       "Epicardial cells               0.461399\n",
       "Fibroblast-like                0.744147\n",
       "Myoz2-enriched cardiomyocytes  0.651561\n",
       "Smooth muscle cells            0.751999\n",
       "Ventricular cardiomyocytes     0.686895"
      ]
     },
     "execution_count": 48,
     "metadata": {},
     "output_type": "execute_result"
    }
   ],
   "source": [
    "per_celltype_metric"
   ]
  },
  {
   "cell_type": "markdown",
   "id": "92b7800c",
   "metadata": {},
   "source": [
    "woohoo! all checks passed...looks good."
   ]
  },
  {
   "cell_type": "code",
   "execution_count": null,
   "id": "29aa0a73",
   "metadata": {},
   "outputs": [],
   "source": []
  },
  {
   "cell_type": "code",
   "execution_count": null,
   "id": "c36e98b7",
   "metadata": {},
   "outputs": [],
   "source": []
  },
  {
   "cell_type": "code",
   "execution_count": null,
   "id": "51f303e6",
   "metadata": {},
   "outputs": [],
   "source": []
  },
  {
   "cell_type": "code",
   "execution_count": null,
   "id": "99fff28d",
   "metadata": {},
   "outputs": [],
   "source": []
  },
  {
   "cell_type": "code",
   "execution_count": null,
   "id": "58c07965",
   "metadata": {},
   "outputs": [],
   "source": []
  },
  {
   "cell_type": "code",
   "execution_count": null,
   "id": "2bbc2394",
   "metadata": {},
   "outputs": [],
   "source": []
  },
  {
   "cell_type": "markdown",
   "id": "6a04a94b",
   "metadata": {},
   "source": [
    "### ARCHIVE - OLD"
   ]
  },
  {
   "cell_type": "code",
   "execution_count": null,
   "id": "27f38db9",
   "metadata": {},
   "outputs": [],
   "source": [
    "overall_metric"
   ]
  },
  {
   "cell_type": "code",
   "execution_count": null,
   "id": "c4c36c62",
   "metadata": {},
   "outputs": [],
   "source": [
    "per_gene_metric"
   ]
  },
  {
   "cell_type": "code",
   "execution_count": null,
   "id": "7ac27f12",
   "metadata": {},
   "outputs": [],
   "source": [
    "per_gene_metric.sort_values(by = 'score')"
   ]
  },
  {
   "cell_type": "code",
   "execution_count": null,
   "id": "48763e00",
   "metadata": {},
   "outputs": [],
   "source": [
    "per_celltype_metric"
   ]
  },
  {
   "cell_type": "code",
   "execution_count": null,
   "id": "26c46cbd",
   "metadata": {},
   "outputs": [],
   "source": [
    "per_celltype_metric.sort_values(by = 'score')"
   ]
  },
  {
   "cell_type": "markdown",
   "id": "60eee310",
   "metadata": {},
   "source": [
    "Everything looks good so far..."
   ]
  },
  {
   "cell_type": "markdown",
   "id": "1ac4e950",
   "metadata": {},
   "source": [
    "### Finally, test the function in chunks..."
   ]
  },
  {
   "cell_type": "code",
   "execution_count": null,
   "id": "f295456e",
   "metadata": {},
   "outputs": [],
   "source": [
    "layer='lognorm'\n",
    "key='celltype'\n",
    "\n",
    "### SET UP\n",
    "# set the .X layer of each of the adatas to be log-normalized counts\n",
    "adata_sp.X = adata_sp.layers[layer]\n",
    "adata_sc.X = adata_sc.layers[layer]\n",
    "    \n",
    "# take the intersection of genes in adata_sp and adata_sc, as a list\n",
    "intersect = list(set(adata_sp.var_names).intersection(set(adata_sc.var_names)))\n",
    "\n",
    "# subset adata_sc and adata_sp to only include genes in the intersection of adata_sp and adata_sc \n",
    "adata_sc=adata_sc[:,intersect]\n",
    "adata_sp=adata_sp[:,intersect]\n",
    "\n",
    "# sparse matrix support\n",
    "for a in [adata_sc, adata_sp]:\n",
    "    if issparse(a.X):\n",
    "        a.X = a.X.toarray()\n",
    "\n",
    "# find the unique celltypes in adata_sc that are also in adata_sp\n",
    "unique_celltypes=adata_sc.obs.loc[adata_sc.obs[key].isin(adata_sp.obs[key]),key].unique()\n"
   ]
  },
  {
   "cell_type": "code",
   "execution_count": null,
   "id": "1865071f",
   "metadata": {},
   "outputs": [],
   "source": [
    "#### FIND MEAN GENE EXPRESSION PER CELL TYPE FOR EACH MODALITY\n",
    "# get the adata_sc cell x gene matrix as a pandas dataframe (w gene names as column names)\n",
    "exp_sc=pd.DataFrame(adata_sc.X,columns=adata_sc.var.index)\n",
    "\n",
    "# get the adata_sp cell x gene matrix as a pandas dataframe (w gene names as column names)\n",
    "exp_sp=pd.DataFrame(adata_sp.X,columns=adata_sp.var.index)\n",
    "\n",
    "# add \"celltype\" label column to exp_sc & exp_sp cell x gene matrices \n",
    "exp_sc[key]=list(adata_sc.obs[key])\n",
    "exp_sp[key]=list(adata_sp.obs[key])\n",
    "\n",
    "# delete all cells from the exp matrices if they aren't in the set of intersecting celltypes b/t sc & sp data\n",
    "exp_sc=exp_sc.loc[exp_sc[key].isin(unique_celltypes),:]\n",
    "exp_sp=exp_sp.loc[exp_sp[key].isin(unique_celltypes),:]\n",
    "\n",
    "# find the mean expression for each gene for each celltype in sc and sp data\n",
    "mean_celltype_sp=exp_sp.groupby(key).mean()\n",
    "mean_celltype_sc=exp_sc.groupby(key).mean()\n",
    "\n",
    "# sort genes in alphabetical order \n",
    "mean_celltype_sc=mean_celltype_sc.loc[:,mean_celltype_sc.columns.sort_values()]\n",
    "mean_celltype_sp=mean_celltype_sp.loc[:,mean_celltype_sp.columns.sort_values()]"
   ]
  },
  {
   "cell_type": "code",
   "execution_count": null,
   "id": "9de2b480",
   "metadata": {},
   "outputs": [],
   "source": [
    "mean_celltype_sc"
   ]
  },
  {
   "cell_type": "code",
   "execution_count": null,
   "id": "25d6eea4",
   "metadata": {
    "scrolled": false
   },
   "outputs": [],
   "source": [
    "mean_celltype_sp"
   ]
  },
  {
   "cell_type": "code",
   "execution_count": null,
   "id": "7f3d3d54",
   "metadata": {},
   "outputs": [],
   "source": [
    "#### CALCULATE PAIRWISE RELATIVE DISTANCES BETWEEN GENES\n",
    "transposed_data_sc = mean_celltype_sc.to_numpy().T\n",
    "pairwise_distances_sc = transposed_data_sc[:,:,np.newaxis] - transposed_data_sc[:,np.newaxis,:]\n",
    "\n",
    "transposed_data_sp = mean_celltype_sp.to_numpy().T\n",
    "pairwise_distances_sp = transposed_data_sp[:,:,np.newaxis] - transposed_data_sp[:,np.newaxis,:]\n"
   ]
  },
  {
   "cell_type": "code",
   "execution_count": null,
   "id": "ffaa4a33",
   "metadata": {},
   "outputs": [],
   "source": [
    "new_pairwise_distances_sc.transpose((1,2,0)).shapenew_data_sc = mean_celltype_sc.to_numpy()\n",
    "new_pairwise_distances_sc = new_data_sc[:,:,np.newaxis] - new_data_sc[:,np.newaxis,:]\n",
    "new_pairwise_distances_sc.transpose((1,2,0)).shape"
   ]
  },
  {
   "cell_type": "code",
   "execution_count": null,
   "id": "81a98eba",
   "metadata": {},
   "outputs": [],
   "source": [
    "new_pairwise_distances_sc.transpose((1,2,0)).shape"
   ]
  },
  {
   "cell_type": "code",
   "execution_count": null,
   "id": "2210b6da",
   "metadata": {},
   "outputs": [],
   "source": [
    "mean_celltype_sc.loc['Atrial cardiomyocytes',:]"
   ]
  },
  {
   "cell_type": "code",
   "execution_count": null,
   "id": "6fcac397",
   "metadata": {},
   "outputs": [],
   "source": [
    "0.070622 - 0.014332"
   ]
  },
  {
   "cell_type": "code",
   "execution_count": null,
   "id": "14975cfd",
   "metadata": {},
   "outputs": [],
   "source": [
    "0.070622 - 0.134023"
   ]
  },
  {
   "cell_type": "code",
   "execution_count": null,
   "id": "05fa205c",
   "metadata": {},
   "outputs": [],
   "source": [
    "new_pairwise_distances_sc[0,:,:].shape"
   ]
  },
  {
   "cell_type": "code",
   "execution_count": null,
   "id": "4158e53c",
   "metadata": {},
   "outputs": [],
   "source": [
    "pairwise_distances_sc.shape"
   ]
  },
  {
   "cell_type": "code",
   "execution_count": null,
   "id": "a7b7362b",
   "metadata": {},
   "outputs": [],
   "source": [
    "pairwise_distances_sc.transpose((0,2,1)).shape"
   ]
  },
  {
   "cell_type": "code",
   "execution_count": null,
   "id": "707c674f",
   "metadata": {},
   "outputs": [],
   "source": [
    "pairwise_distances_sc.shape"
   ]
  },
  {
   "cell_type": "code",
   "execution_count": null,
   "id": "5956dff2",
   "metadata": {},
   "outputs": [],
   "source": [
    "mean_celltype_sc"
   ]
  },
  {
   "cell_type": "code",
   "execution_count": null,
   "id": "87d7aaf3",
   "metadata": {},
   "outputs": [],
   "source": [
    "0.070622 - 0.018484"
   ]
  },
  {
   "cell_type": "code",
   "execution_count": null,
   "id": "53c92f38",
   "metadata": {},
   "outputs": [],
   "source": [
    "pd.DataFrame(pairwise_distances_sc[0,:,:])"
   ]
  },
  {
   "cell_type": "code",
   "execution_count": null,
   "id": "61b79a6d",
   "metadata": {},
   "outputs": [],
   "source": [
    "0.070622 - 0.014332"
   ]
  },
  {
   "cell_type": "code",
   "execution_count": null,
   "id": "2a3f79c9",
   "metadata": {},
   "outputs": [],
   "source": [
    "#### NORMALIZE THESE PAIRWISE DISTANCES BETWEEN GENES\n",
    "#calculate sum of absolute distances\n",
    "abs_diff_sc = np.absolute(pairwise_distances_sc)\n",
    "abs_diff_sum_sc = np.sum(abs_diff_sc, axis=(0,1))\n",
    "\n",
    "abs_diff_sp = np.absolute(pairwise_distances_sp)\n",
    "abs_diff_sum_sp = np.sum(abs_diff_sp, axis=(0,1))\n",
    "\n",
    "# calculate normalization factor\n",
    "norm_factor_sc = mean_celltype_sc.shape[1]**2 * abs_diff_sum_sc\n",
    "norm_factor_sp = mean_celltype_sc.shape[1]**2 * abs_diff_sum_sp\n",
    "\n",
    "#perform normalization\n",
    "norm_pairwise_distances_sc = np.divide(pairwise_distances_sc, norm_factor_sc)\n",
    "norm_pairwise_distances_sp = np.divide(pairwise_distances_sp, norm_factor_sp)\n",
    "\n",
    "\n",
    "##### CALCULATE OVERALL SCORE,PER-GENE SCORES, PER-CELLTYPE SCORES\n",
    "overall_score = np.sum(np.absolute(norm_pairwise_distances_sp - norm_pairwise_distances_sc), axis=None)\n",
    "overall_metric = 1 - (overall_score/(2 * np.sum(np.absolute(norm_pairwise_distances_sc), axis=None)))\n",
    "\n",
    "per_gene_score = np.sum(np.absolute(norm_pairwise_distances_sp - norm_pairwise_distances_sc), axis=(1,2))\n",
    "per_gene_metric = 1 - (per_gene_score/(2 * np.sum(np.absolute(norm_pairwise_distances_sc), axis=(1,2))))\n",
    "per_gene_metric = pd.DataFrame(per_gene_metric, index=mean_celltype_sc.columns, columns=['score']) #add back the gene labels \n",
    "\n",
    "per_celltype_score = np.sum(np.absolute(norm_pairwise_distances_sp - norm_pairwise_distances_sc), axis=(0,1))\n",
    "per_celltype_metric = 1 - (per_celltype_score/(2 * np.sum(np.absolute(norm_pairwise_distances_sc), axis=(0,1))))\n",
    "per_celltype_metric = pd.DataFrame(per_celltype_metric, index=mean_celltype_sc.index, columns=['score']) #add back the celltype labels \n"
   ]
  },
  {
   "cell_type": "code",
   "execution_count": null,
   "id": "aeb18f05",
   "metadata": {},
   "outputs": [],
   "source": []
  },
  {
   "cell_type": "code",
   "execution_count": null,
   "id": "0b4bd121",
   "metadata": {},
   "outputs": [],
   "source": []
  },
  {
   "cell_type": "code",
   "execution_count": null,
   "id": "e13b6d33",
   "metadata": {},
   "outputs": [],
   "source": []
  },
  {
   "cell_type": "code",
   "execution_count": null,
   "id": "5775b192",
   "metadata": {},
   "outputs": [],
   "source": []
  },
  {
   "cell_type": "code",
   "execution_count": null,
   "id": "4a77293e",
   "metadata": {},
   "outputs": [],
   "source": []
  },
  {
   "cell_type": "code",
   "execution_count": null,
   "id": "7abc8050",
   "metadata": {},
   "outputs": [],
   "source": []
  },
  {
   "cell_type": "code",
   "execution_count": null,
   "id": "2c29fcd8",
   "metadata": {},
   "outputs": [],
   "source": [
    "## outtakes --> originally in the code but not used for this new metric\n",
    "\n",
    "  # find the mean expression of each gene in the sc dataset\n",
    "    gene_means_sc=pd.DataFrame(np.mean(exp_sc,axis=0))\n",
    "    \n",
    "    # sort the genes so that they're in alphabetical order in the gene_means_sc df\n",
    "    exp_sc=exp_sc.loc[exp_sc.index.sort_values(),:]\n",
    "    \n",
    "   \n",
    "    # find the mean expression of each gene in the sp dataset \n",
    "    gene_means_sp=pd.DataFrame(np.mean(exp_sp,axis=0))\n",
    "    \n",
    "    # sort the genes so that they're in alphabetical order in the gene_means_sp df\n",
    "    gene_means_sp=gene_means_sp.loc[gene_means_sp.index.sort_values(),:]\n",
    "    \n",
    "    \n",
    "    \n",
    "    \n",
    "    "
   ]
  },
  {
   "cell_type": "code",
   "execution_count": null,
   "id": "a5342d51",
   "metadata": {},
   "outputs": [],
   "source": [
    "## outtakes -- helpful for Asli potentially\n",
    " transposed_data_sc = mean_celltype_sc.to_numpy().T\n",
    "    pairwise_distances_sc = transposed_data_sc[:,:,np.newaxis] - transposed_data_sc[:,np.newaxis,:]\n",
    "    \n",
    "    transposed_data_sp = mean_celltype_sp.to_numpy().T\n",
    "    pairwise_distances_sp = transposed_data_sp[:,:,np.newaxis] - transposed_data_sp[:,np.newaxis,:]\n",
    "    "
   ]
  }
 ],
 "metadata": {
  "kernelspec": {
   "display_name": "Python 3 (ipykernel)",
   "language": "python",
   "name": "python3"
  },
  "language_info": {
   "codemirror_mode": {
    "name": "ipython",
    "version": 3
   },
   "file_extension": ".py",
   "mimetype": "text/x-python",
   "name": "python",
   "nbconvert_exporter": "python",
   "pygments_lexer": "ipython3",
   "version": "3.10.8"
  }
 },
 "nbformat": 4,
 "nbformat_minor": 5
}
